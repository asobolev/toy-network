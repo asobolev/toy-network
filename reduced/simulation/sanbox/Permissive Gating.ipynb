{
 "metadata": {
  "name": ""
 },
 "nbformat": 3,
 "nbformat_minor": 0,
 "worksheets": [
  {
   "cells": [
    {
     "cell_type": "heading",
     "level": 1,
     "metadata": {},
     "source": [
      "Configuration and Setup"
     ]
    },
    {
     "cell_type": "code",
     "collapsed": false,
     "input": [
      "import nest\n",
      "import numpy as np\n",
      "\n",
      "from reduced.network.monitors import VoltageMonitor\n",
      "from reduced.plot.dynamics import raster_plot, layer_co_dynamics\n",
      "\n",
      "\n",
      "# injects DC current into a NEST Node\n",
      "def inject_current(nest_id, amplitude, start, stop):\n",
      "    dc_id = nest.Create(\"dc_generator\")[0]\n",
      "    \n",
      "    nest.SetStatus([dc], [{\n",
      "        \"amplitude\": amplitude,\n",
      "        \"start\": start,\n",
      "        \"stop\": stop\n",
      "    }])\n",
      "\n",
      "    nest.Connect([dc], [nest_id])\n",
      "    return dc_id\n",
      "\n",
      "\n",
      "# sticks Voltmeter into a NEST Node\n",
      "def stick_voltmeter(nest_id, params={'record_from': ['V_m'], 'withtime': True}):\n",
      "    voltmeter_id = nest.Create('multimeter', params=params)[0]\n",
      "    \n",
      "    nest.Connect([voltmeter_id], [nest_id])\n",
      "    \n",
      "    return VoltageMonitor(voltmeter_id)"
     ],
     "language": "python",
     "metadata": {},
     "outputs": [
      {
       "ename": "ImportError",
       "evalue": "/opt/nest-dev/lib/python2.7/site-packages/nest/pynestkernel.so: undefined symbol: _ZTVN4nest26iaf_with_permissive_gatingE",
       "output_type": "pyerr",
       "traceback": [
        "\u001b[0;31m---------------------------------------------------------------------------\u001b[0m\n\u001b[0;31mImportError\u001b[0m                               Traceback (most recent call last)",
        "\u001b[0;32m<ipython-input-1-5115e5cfa230>\u001b[0m in \u001b[0;36m<module>\u001b[0;34m()\u001b[0m\n\u001b[0;32m----> 1\u001b[0;31m \u001b[0;32mimport\u001b[0m \u001b[0mnest\u001b[0m\u001b[0;34m\u001b[0m\u001b[0m\n\u001b[0m\u001b[1;32m      2\u001b[0m \u001b[0;32mimport\u001b[0m \u001b[0mnumpy\u001b[0m \u001b[0;32mas\u001b[0m \u001b[0mnp\u001b[0m\u001b[0;34m\u001b[0m\u001b[0m\n\u001b[1;32m      3\u001b[0m \u001b[0;34m\u001b[0m\u001b[0m\n\u001b[1;32m      4\u001b[0m \u001b[0;32mfrom\u001b[0m \u001b[0mreduced\u001b[0m\u001b[0;34m.\u001b[0m\u001b[0mnetwork\u001b[0m\u001b[0;34m.\u001b[0m\u001b[0mmonitors\u001b[0m \u001b[0;32mimport\u001b[0m \u001b[0mVoltageMonitor\u001b[0m\u001b[0;34m\u001b[0m\u001b[0m\n\u001b[1;32m      5\u001b[0m \u001b[0;32mfrom\u001b[0m \u001b[0mreduced\u001b[0m\u001b[0;34m.\u001b[0m\u001b[0mplot\u001b[0m\u001b[0;34m.\u001b[0m\u001b[0mdynamics\u001b[0m \u001b[0;32mimport\u001b[0m \u001b[0mraster_plot\u001b[0m\u001b[0;34m,\u001b[0m \u001b[0mlayer_co_dynamics\u001b[0m\u001b[0;34m\u001b[0m\u001b[0m\n",
        "\u001b[0;32m/opt/nest-dev/lib/python2.7/site-packages/nest/__init__.py\u001b[0m in \u001b[0;36m<module>\u001b[0;34m()\u001b[0m\n\u001b[1;32m     50\u001b[0m     \u001b[0msys\u001b[0m\u001b[0;34m.\u001b[0m\u001b[0msetdlopenflags\u001b[0m\u001b[0;34m(\u001b[0m\u001b[0mctypes\u001b[0m\u001b[0;34m.\u001b[0m\u001b[0mRTLD_GLOBAL\u001b[0m\u001b[0;34m)\u001b[0m\u001b[0;34m\u001b[0m\u001b[0m\n\u001b[1;32m     51\u001b[0m \u001b[0;34m\u001b[0m\u001b[0m\n\u001b[0;32m---> 52\u001b[0;31m \u001b[0;32mfrom\u001b[0m \u001b[0;34m.\u001b[0m \u001b[0;32mimport\u001b[0m \u001b[0mpynestkernel\u001b[0m \u001b[0;32mas\u001b[0m \u001b[0m_kernel\u001b[0m\u001b[0;34m\u001b[0m\u001b[0m\n\u001b[0m\u001b[1;32m     53\u001b[0m \u001b[0;32mfrom\u001b[0m \u001b[0;34m.\u001b[0m \u001b[0;32mimport\u001b[0m \u001b[0mhl_api\u001b[0m\u001b[0;34m\u001b[0m\u001b[0m\n\u001b[1;32m     54\u001b[0m \u001b[0;34m\u001b[0m\u001b[0m\n",
        "\u001b[0;31mImportError\u001b[0m: /opt/nest-dev/lib/python2.7/site-packages/nest/pynestkernel.so: undefined symbol: _ZTVN4nest26iaf_with_permissive_gatingE"
       ]
      }
     ],
     "prompt_number": 1
    },
    {
     "cell_type": "code",
     "collapsed": false,
     "input": [
      "neuron_setup = {\n",
      "    'E_L': -65.,     # Resting membrane potential in mV\n",
      "    'C_m': 1.0,      \n",
      "    'tau_m': 20.9,   # Capacity of the membrane in pF\n",
      "    't_ref': 2.0,    # Duration of refractory period in ms\n",
      "    'V_th': -50.,    # Spike threshold in mV\n",
      "    'V_reset': -55.  # Reset potential of the membrane in mV\n",
      "}"
     ],
     "language": "python",
     "metadata": {},
     "outputs": []
    },
    {
     "cell_type": "code",
     "collapsed": false,
     "input": [
      "synapse_setup = {\n",
      "    'alpha': 0.1,\n",
      "    'lambda': 0.01,\n",
      "    'weight': 0.05,\n",
      "    'norm_freq': 400.,\n",
      "    'norm_fac1': 0.9,\n",
      "    'norm_fac0': 0.2\n",
      "}\n",
      "nest.CopyModel('stdp_pl_norm_synapse_hom', 'plastic', synapse_setup)\n",
      "nest.CopyModel('static_synapse', 'static')\n",
      "\n",
      "R_syn_spec = {'weight': 1.0, 'model': 'static'}\n",
      "G_syn_spec = {'weight': 1.0, 'model': 'static', 'receptor_type': 8}"
     ],
     "language": "python",
     "metadata": {},
     "outputs": []
    },
    {
     "cell_type": "heading",
     "level": 1,
     "metadata": {},
     "source": [
      "Simulation"
     ]
    },
    {
     "cell_type": "heading",
     "level": 3,
     "metadata": {},
     "source": [
      "Neuron is not responsive without gating input"
     ]
    },
    {
     "cell_type": "code",
     "collapsed": false,
     "input": [
      "nest.ResetKernel()\n",
      "\n",
      "# two input neurons: R(trigger) and G(gate)\n",
      "R_input = nest.Create(\"iaf_psc_alpha\", params=neuron_setup)[0]\n",
      "G_input = nest.Create(\"iaf_psc_alpha\", params=neuron_setup)[0]\n",
      "\n",
      "# output neuron \"aware\" of gating inputs\n",
      "params = dict(neuron_setup.items() + {'gating_threshold': 1.0}.items())\n",
      "U_output = nest.Create(\"iaf_with_permissive_gating\", params=params)[0]\n",
      "\n",
      "nest.Connect([R_input], [U_output], syn_spec=R_syn_spec)\n",
      "nest.Connect([G_input], [U_output], syn_spec=G_syn_spec)\n",
      "\n",
      "monitors = map(stick_voltmeter, [R_input, G_input, U_input])\n",
      "\n",
      "# current injections\n",
      "inject_current([R_input], 10.0, 100.0, 200.0)\n",
      "inject_current([R_input], 10.0, 300.0, 400.0)\n",
      "inject_current([R_input], 20.0, 500.0, 600.0)\n",
      "\n",
      "inject_current([G_input], 2.0, 300.0, 400.0)\n",
      "inject_current([G_input], 2.0, 500.0, 600.0)\n",
      "\n",
      "nest.Simulate(700)"
     ],
     "language": "python",
     "metadata": {},
     "outputs": []
    },
    {
     "cell_type": "code",
     "collapsed": false,
     "input": [
      "times = nest.GetStatus([monitors[0]], 'events')[0]['times']\n",
      "\n",
      "i_events = np.array([monitors[x].V_m for x in (0,1)])\n",
      "o_events = np.array([monitors[2].V_m])\n",
      "\n",
      "layer_co_dynamics(i_events, o_events, monitors[0].times)"
     ],
     "language": "python",
     "metadata": {},
     "outputs": []
    }
   ],
   "metadata": {}
  }
 ]
}