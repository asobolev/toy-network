{
 "metadata": {
  "name": ""
 },
 "nbformat": 3,
 "nbformat_minor": 0,
 "worksheets": [
  {
   "cells": [
    {
     "cell_type": "code",
     "collapsed": false,
     "input": [
      "import nest\n",
      "import numpy as np\n",
      "import matplotlib.pyplot as plt\n",
      "\n",
      "\n",
      "def inject_current(nest_id, amplitude, start, stop):\n",
      "    dc = nest.Create(\"dc_generator\")\n",
      "    nest.SetStatus(dc, [{\n",
      "        \"amplitude\": amplitude,\n",
      "        \"start\": start,\n",
      "        \"stop\": stop\n",
      "    }])\n",
      "\n",
      "    nest.Connect(dc, [nest_id])"
     ],
     "language": "python",
     "metadata": {},
     "outputs": []
    },
    {
     "cell_type": "code",
     "collapsed": false,
     "input": [
      "input_neuron_setup = {\n",
      "    'E_L': -65.,     # Resting membrane potential in mV\n",
      "    'C_m': 1.0,      \n",
      "    'tau_m': 20.9,   # Capacity of the membrane in pF\n",
      "    't_ref': 2.0,    # Duration of refractory period in ms\n",
      "    'V_th': -50.,    # Spike threshold in mV\n",
      "    'V_reset': -55.  # Reset potential of the membrane in mV\n",
      "}\n",
      "new_input_neuron = lambda: nest.Create(\"iaf_psc_alpha\", params=input_neuron_setup)[0]"
     ],
     "language": "python",
     "metadata": {},
     "outputs": []
    },
    {
     "cell_type": "code",
     "collapsed": false,
     "input": [
      "output_neuron_setup = {\n",
      "    'tau_syn': [1.0, 2.0, 50.], # ampa, gaba, nmda time constants\n",
      "    'tau_m':0.5 * 1000. /25.,   # Capacity of the membrane in pF\n",
      "    'V_m': -70.,                # Membrane potential in mV\n",
      "    'E_L': -70.,                # Resting membrane potential in mV\n",
      "    't_ref': 2.,                # Duration of refractory period in ms\n",
      "    'V_th': -50.,               # Spike threshold in mV.\n",
      "    'V_reset': -60.,            # Reset potential of the membrane in mV\n",
      "    'V_min': -100.,             # Absolute lower value for the membrane potential\n",
      "}\n",
      "new_output_neuron = lambda: nest.Create(\"iaf_psc_alpha_multisynapse\", params=output_neuron_setup)[0]"
     ],
     "language": "python",
     "metadata": {},
     "outputs": []
    },
    {
     "cell_type": "code",
     "collapsed": false,
     "input": [
      "nest.ResetKernel()\n",
      "\n",
      "R_inputs = [new_input_neuron() for i in range(2)]\n",
      "G_inputs = [new_input_neuron() for i in range(2)]\n",
      "\n",
      "U_outputs = [new_output_neuron()]"
     ],
     "language": "python",
     "metadata": {},
     "outputs": []
    },
    {
     "cell_type": "code",
     "collapsed": false,
     "input": [
      "synapse_setup = {\n",
      "    'alpha': 0.1,\n",
      "    'lambda': 0.01,\n",
      "    'weight': 0.05,\n",
      "    'norm_freq': 400.,\n",
      "    'norm_fac1': 0.9,\n",
      "    'norm_fac0': 0.2\n",
      "}\n",
      "nest.CopyModel('stdp_pl_norm_synapse_hom', 'plastic', synapse_setup)\n",
      "nest.CopyModel('static_synapse', 'static')\n",
      "\n",
      "R_syn_spec = {'weight': 1.0, 'model': 'plastic'}\n",
      "G_syn_spec = {'weight': 1.0, 'model': 'static', 'receptor_type': 8}\n",
      "\n",
      "for input_id in R_inputs:\n",
      "    nest.Connect([input_id], U_outputs, syn_spec=R_syn_spec)\n",
      "\n",
      "for input_id in G_inputs:\n",
      "    nest.Connect([input_id], U_outputs, syn_spec=G_syn_spec)\n",
      "\n",
      "connections = nest.GetConnections(R_inputs + G_inputs, U_outputs)"
     ],
     "language": "python",
     "metadata": {},
     "outputs": []
    },
    {
     "cell_type": "code",
     "collapsed": false,
     "input": [
      "monitors = []\n",
      "rec_params = {'record_from': ['V_m'], 'withtime': True}\n",
      "for node in R_inputs + G_inputs + U_outputs:\n",
      "    voltmeter = nest.Create('multimeter', params=rec_params)\n",
      "    nest.Connect(voltmeter, [node])\n",
      "    monitors.append(voltmeter[0])"
     ],
     "language": "python",
     "metadata": {},
     "outputs": []
    }
   ],
   "metadata": {}
  }
 ]
}