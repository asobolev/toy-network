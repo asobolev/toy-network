{
 "metadata": {
  "name": ""
 },
 "nbformat": 3,
 "nbformat_minor": 0,
 "worksheets": [
  {
   "cells": [
    {
     "cell_type": "heading",
     "level": 1,
     "metadata": {},
     "source": [
      "Configuration and Setup"
     ]
    },
    {
     "cell_type": "code",
     "collapsed": false,
     "input": [
      "import nest\n",
      "import numpy as np\n",
      "\n",
      "from reduced.network.monitors import VoltageMonitor\n",
      "from reduced.plot.dynamics import raster_plot, layer_co_dynamics\n",
      "\n",
      "\n",
      "# injects DC current into a NEST Node\n",
      "def inject_current(nest_id, amplitude, start, stop):\n",
      "    dc_id = nest.Create(\"dc_generator\")[0]\n",
      "    \n",
      "    nest.SetStatus([dc_id], [{\n",
      "        \"amplitude\": amplitude,\n",
      "        \"start\": start,\n",
      "        \"stop\": stop\n",
      "    }])\n",
      "\n",
      "    nest.Connect([dc_id], [nest_id])\n",
      "    return dc_id\n",
      "\n",
      "\n",
      "# sticks Voltmeter into a NEST Node\n",
      "def stick_voltmeter(nest_id, params={'record_from': ['V_m'], 'withtime': True}):\n",
      "    voltmeter_id = nest.Create('multimeter', params=params)[0]\n",
      "    \n",
      "    nest.Connect([voltmeter_id], [nest_id])\n",
      "    \n",
      "    return VoltageMonitor(voltmeter_id)"
     ],
     "language": "python",
     "metadata": {},
     "outputs": [],
     "prompt_number": 1
    },
    {
     "cell_type": "code",
     "collapsed": false,
     "input": [
      "neuron_setup = {\n",
      "    'E_L': -65.,     # Resting membrane potential in mV\n",
      "    'C_m': 1.0,      \n",
      "    'tau_m': 20.9,   # Capacity of the membrane in pF\n",
      "    't_ref': 2.0,    # Duration of refractory period in ms\n",
      "    'V_th': -50.,    # Spike threshold in mV\n",
      "    'V_reset': -55.  # Reset potential of the membrane in mV\n",
      "}"
     ],
     "language": "python",
     "metadata": {},
     "outputs": [],
     "prompt_number": 2
    },
    {
     "cell_type": "code",
     "collapsed": false,
     "input": [
      "synapse_setup = {\n",
      "    'alpha': 0.1,\n",
      "    'lambda': 0.01,\n",
      "    'weight': 0.05,\n",
      "    'norm_freq': 400.,\n",
      "    'norm_fac1': 0.9,\n",
      "    'norm_fac0': 0.2\n",
      "}\n",
      "nest.CopyModel('stdp_pl_norm_synapse_hom', 'plastic', synapse_setup)\n",
      "nest.CopyModel('static_synapse', 'static')\n",
      "\n",
      "R_syn_spec = {'weight': 1.0, 'model': 'static_synapse'}\n",
      "G_syn_spec = {'weight': 1.0, 'model': 'static_synapse', 'receptor_type': 8}"
     ],
     "language": "python",
     "metadata": {},
     "outputs": [],
     "prompt_number": 3
    },
    {
     "cell_type": "heading",
     "level": 1,
     "metadata": {},
     "source": [
      "Simulation"
     ]
    },
    {
     "cell_type": "heading",
     "level": 3,
     "metadata": {},
     "source": [
      "Neuron is not responsive without gating input"
     ]
    },
    {
     "cell_type": "code",
     "collapsed": false,
     "input": [
      "nest.ResetKernel()\n",
      "\n",
      "# two input neurons: R(trigger) and G(gate)\n",
      "R_input = nest.Create(\"iaf_psc_alpha\", params=neuron_setup)[0]\n",
      "G_input = nest.Create(\"iaf_psc_alpha\", params=neuron_setup)[0]\n",
      "\n",
      "# output neuron \"aware\" of gating inputs\n",
      "#params = dict(neuron_setup.items() + {'gating_threshold': 1.0}.items())\n",
      "U_output = nest.Create(\"iaf_with_permissive_gating\", params=neuron_setup)[0]\n",
      "\n",
      "nest.Connect([R_input], [U_output], syn_spec=R_syn_spec)\n",
      "nest.Connect([G_input], [U_output], syn_spec=G_syn_spec)\n",
      "\n",
      "monitors = map(stick_voltmeter, [R_input, G_input, U_output])\n",
      "\n",
      "# current injections\n",
      "inject_current(R_input, 10.0, 100.0, 200.0)\n",
      "inject_current(R_input, 10.0, 300.0, 400.0)\n",
      "inject_current(R_input, 20.0, 500.0, 600.0)\n",
      "\n",
      "inject_current(G_input, 2.0, 300.0, 400.0)\n",
      "inject_current(G_input, 2.0, 500.0, 600.0)\n",
      "\n",
      "nest.Simulate(700)"
     ],
     "language": "python",
     "metadata": {},
     "outputs": [],
     "prompt_number": 5
    },
    {
     "cell_type": "code",
     "collapsed": false,
     "input": [
      "i_events = np.array([monitors[x].V_m for x in (0,1)])\n",
      "o_events = np.array([monitors[2].V_m])\n",
      "\n",
      "layer_co_dynamics(i_events, o_events, monitors[0].times)"
     ],
     "language": "python",
     "metadata": {},
     "outputs": [
      {
       "ename": "IndexError",
       "evalue": "index out of bounds",
       "output_type": "pyerr",
       "traceback": [
        "\u001b[0;31m---------------------------------------------------------------------------\u001b[0m\n\u001b[0;31mIndexError\u001b[0m                                Traceback (most recent call last)",
        "\u001b[0;32m<ipython-input-7-8f1e7b42596c>\u001b[0m in \u001b[0;36m<module>\u001b[0;34m()\u001b[0m\n\u001b[1;32m      2\u001b[0m \u001b[0mo_events\u001b[0m \u001b[0;34m=\u001b[0m \u001b[0mnp\u001b[0m\u001b[0;34m.\u001b[0m\u001b[0marray\u001b[0m\u001b[0;34m(\u001b[0m\u001b[0;34m[\u001b[0m\u001b[0mmonitors\u001b[0m\u001b[0;34m[\u001b[0m\u001b[0;36m2\u001b[0m\u001b[0;34m]\u001b[0m\u001b[0;34m.\u001b[0m\u001b[0mV_m\u001b[0m\u001b[0;34m]\u001b[0m\u001b[0;34m)\u001b[0m\u001b[0;34m\u001b[0m\u001b[0m\n\u001b[1;32m      3\u001b[0m \u001b[0;34m\u001b[0m\u001b[0m\n\u001b[0;32m----> 4\u001b[0;31m \u001b[0mlayer_co_dynamics\u001b[0m\u001b[0;34m(\u001b[0m\u001b[0mi_events\u001b[0m\u001b[0;34m,\u001b[0m \u001b[0mo_events\u001b[0m\u001b[0;34m,\u001b[0m \u001b[0mmonitors\u001b[0m\u001b[0;34m[\u001b[0m\u001b[0;36m0\u001b[0m\u001b[0;34m]\u001b[0m\u001b[0;34m.\u001b[0m\u001b[0mtimes\u001b[0m\u001b[0;34m)\u001b[0m\u001b[0;34m\u001b[0m\u001b[0m\n\u001b[0m",
        "\u001b[0;32m/home/andrey/projects/invariance/toy-network/reduced/plot/dynamics.pyc\u001b[0m in \u001b[0;36mlayer_co_dynamics\u001b[0;34m(i_events, m_events, times)\u001b[0m\n\u001b[1;32m     77\u001b[0m \u001b[0;34m\u001b[0m\u001b[0m\n\u001b[1;32m     78\u001b[0m         \u001b[0;31m# limits of the x axis\u001b[0m\u001b[0;34m\u001b[0m\u001b[0;34m\u001b[0m\u001b[0m\n\u001b[0;32m---> 79\u001b[0;31m         \u001b[0max\u001b[0m\u001b[0;34m.\u001b[0m\u001b[0mset_xlim\u001b[0m\u001b[0;34m(\u001b[0m\u001b[0mtimes\u001b[0m\u001b[0;34m[\u001b[0m\u001b[0;36m0\u001b[0m\u001b[0;34m]\u001b[0m\u001b[0;34m,\u001b[0m \u001b[0mtimes\u001b[0m\u001b[0;34m[\u001b[0m\u001b[0;34m-\u001b[0m\u001b[0;36m1\u001b[0m\u001b[0;34m]\u001b[0m\u001b[0;34m)\u001b[0m\u001b[0;34m\u001b[0m\u001b[0m\n\u001b[0m\u001b[1;32m     80\u001b[0m \u001b[0;34m\u001b[0m\u001b[0m\n\u001b[1;32m     81\u001b[0m         \u001b[0;31m# limits of the y axis\u001b[0m\u001b[0;34m\u001b[0m\u001b[0;34m\u001b[0m\u001b[0m\n",
        "\u001b[0;31mIndexError\u001b[0m: index out of bounds"
       ]
      },
      {
       "metadata": {},
       "output_type": "display_data",
       "png": "[encoded data removed]",
       "text": [
        "<matplotlib.figure.Figure at 0x7f24e0089950>"
       ]
      }
     ],
     "prompt_number": 7
    },
    {
     "cell_type": "code",
     "collapsed": false,
     "input": [],
     "language": "python",
     "metadata": {},
     "outputs": []
    }
   ],
   "metadata": {}
  }
 ]
}