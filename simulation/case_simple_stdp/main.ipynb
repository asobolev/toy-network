{
 "metadata": {
  "name": ""
 },
 "nbformat": 3,
 "nbformat_minor": 0,
 "worksheets": [
  {
   "cells": [
    {
     "cell_type": "markdown",
     "metadata": {},
     "source": [
      "The following article builds a toy-network with two layers of neurons, aimed at learning a simple discrimination of the input stimuli. The network has 5x5 square input layer (25 input neurons), plastic (all-to-all) synaptic connections to a 5x5 map layer (25 neurons). The map layer neurons exhibit some random inhibition and local (neihboring) excitation within the layer to include some competition between the neurons."
     ]
    },
    {
     "cell_type": "markdown",
     "metadata": {},
     "source": [
      "All configurations for neurons, connections and synapses are located in the configurations.json (JSON) file in the case folder."
     ]
    },
    {
     "cell_type": "heading",
     "level": 3,
     "metadata": {},
     "source": [
      "Network Setup"
     ]
    },
    {
     "cell_type": "markdown",
     "metadata": {},
     "source": [
      "Using the related configuration, assemble the toy-network:"
     ]
    },
    {
     "cell_type": "code",
     "collapsed": true,
     "input": [
      "#!/usr/bin/env python\n",
      "\n",
      "import nest\n",
      "import numpy as np\n",
      "\n",
      "from reduced.network.network import ToyNetwork\n",
      "from reduced.simulation.utils import from_file, parse_to_objects\n",
      "\n",
      "nest.ResetKernel()\n",
      "\n",
      "setup_dict = parse_to_objects(from_file('configurations.json'))\n",
      "\n",
      "network_setup = [\n",
      "    setup_dict['GKLEARN_5X5_0'], setup_dict['INPUT_NEURON'],\n",
      "    setup_dict['MAP_NEURON'], setup_dict['HOM_SYNAPSE'],\n",
      "    setup_dict['FWD_CONN'], setup_dict['INH_CONN'], setup_dict['EXC_CONN']\n",
      "]\n",
      "network = ToyNetwork(*network_setup)\n",
      "\n",
      "weights_before = np.array(network.input_layer.weights)  # remember original weights"
     ],
     "language": "python",
     "metadata": {},
     "outputs": [
      {
       "output_type": "stream",
       "stream": "stdout",
       "text": [
        "/opt/nest-dev/lib/python2.7/site-packages/nest/hl_api.py:76: UserWarning: DivergentConnect is deprecated and will be removed in NEST 2.6.Please use Connect from now on. For details, see the documentation at:\n",
        "http://nest-initiative.org/Connection_Management\n"
       ]
      }
     ],
     "prompt_number": 1
    },
    {
     "cell_type": "heading",
     "level": 3,
     "metadata": {},
     "source": [
      "Learning"
     ]
    },
    {
     "cell_type": "markdown",
     "metadata": {},
     "source": [
      "Simulate until the weights are converged:"
     ]
    },
    {
     "cell_type": "code",
     "collapsed": false,
     "input": [
      "max_simulation_time = 5000\n",
      "time_bin = 5000\n",
      "convergence_delta = 5  # criteria for convergence\n",
      "\n",
      "time_passed = 0\n",
      "weights_diff = np.array(network.input_layer.weights)\n",
      "previous_weights = np.array(network.input_layer.weights)\n",
      "\n",
      "while (time_passed < max_simulation_time) and not (weights_diff < convergence_delta).all():\n",
      "    nest.Simulate(time_bin)\n",
      "    time_passed += time_bin\n",
      "    \n",
      "    actual_weights = np.array(network.input_layer.weights)\n",
      "    weights_diff = np.abs(actual_weights - previous_weights)\n",
      "        \n",
      "    previous_weights = actual_weights\n",
      "    \n",
      "print time_passed"
     ],
     "language": "python",
     "metadata": {},
     "outputs": [
      {
       "output_type": "stream",
       "stream": "stdout",
       "text": [
        "5000\n"
       ]
      }
     ],
     "prompt_number": 2
    },
    {
     "cell_type": "code",
     "collapsed": false,
     "input": [
      "from reduced.simulation.plot.weights import weights_multiple\n",
      "\n",
      "weights_after = np.array(network.input_layer.weights)\n",
      "\n",
      "fig = weights_multiple([weights_before, weights_after])"
     ],
     "language": "python",
     "metadata": {},
     "outputs": [
      {
       "metadata": {},
       "output_type": "display_data",
       "png": "[encoded data removed]",
       "text": [
        "<matplotlib.figure.Figure at 0x7f193a950fd0>"
       ]
      }
     ],
     "prompt_number": 3
    },
    {
     "cell_type": "heading",
     "level": 3,
     "metadata": {},
     "source": [
      "Single cell analysis"
     ]
    },
    {
     "cell_type": "code",
     "collapsed": false,
     "input": [
      "cell = network.map_layer[2]\n",
      "\n",
      "print cell.id\n",
      "\n",
      "[(x['source'], x['weight']) for x in network.input_layer.synapses_for(cell)]"
     ],
     "language": "python",
     "metadata": {},
     "outputs": [
      {
       "output_type": "stream",
       "stream": "stdout",
       "text": [
        "31\n"
       ]
      },
      {
       "metadata": {},
       "output_type": "pyout",
       "prompt_number": 10,
       "text": [
        "[(2, 463.76219443284936),\n",
        " (3, 463.76228309656324),\n",
        " (4, 463.76233194529664),\n",
        " (5, 463.7623350459367),\n",
        " (6, 463.7622145589653),\n",
        " (7, 41.30478780709768),\n",
        " (8, 46.36628305209805),\n",
        " (9, 72.65390558921791),\n",
        " (10, 81.70521482117846),\n",
        " (11, 45.12252184210007),\n",
        " (12, 72.98417394146911),\n",
        " (13, 92.24447707046595),\n",
        " (14, 60.95936342638575),\n",
        " (15, 21.85816329287319),\n",
        " (16, 61.5513751093076),\n",
        " (17, 204.2479452161591),\n",
        " (18, 212.05404153544373),\n",
        " (19, 182.2034518570638),\n",
        " (20, 183.2337737621967),\n",
        " (21, 196.19799682611256),\n",
        " (22, 37.31249533573093),\n",
        " (23, 26.48740994866333),\n",
        " (24, 51.760889495016634),\n",
        " (25, 95.74136140409244),\n",
        " (26, 75.17013592776222)]"
       ]
      }
     ],
     "prompt_number": 10
    },
    {
     "cell_type": "heading",
     "level": 3,
     "metadata": {},
     "source": [
      "Testing"
     ]
    },
    {
     "cell_type": "markdown",
     "metadata": {},
     "source": [
      "Set voltage monitors before the simulation:"
     ]
    },
    {
     "cell_type": "code",
     "collapsed": false,
     "input": [
      "from reduced.network.monitors import VoltageMonitor, MonitorPool, SpikeDetector\n",
      "\n",
      "#input_monitors = MonitorPool(VoltageMonitor, network.input_layer.nodes)\n",
      "#map_monitors = MonitorPool(VoltageMonitor, network.map_layer.nodes)\n",
      "\n",
      "spike_detector = SpikeDetector(network.map_layer.nodes)"
     ],
     "language": "python",
     "metadata": {},
     "outputs": [
      {
       "output_type": "stream",
       "stream": "stdout",
       "text": [
        "/opt/nest-dev/lib/python2.7/site-packages/nest/hl_api.py:76: UserWarning: ConvergentConnect is deprecated and will be removed in NEST 2.6.Please use Connect from now on. For details, see the documentation at:\n",
        "http://nest-initiative.org/Connection_Management\n"
       ]
      }
     ],
     "prompt_number": 5
    },
    {
     "cell_type": "markdown",
     "metadata": {},
     "source": [
      "Simulate sample interval:"
     ]
    },
    {
     "cell_type": "code",
     "collapsed": false,
     "input": [
      "nest.Simulate(10000)"
     ],
     "language": "python",
     "metadata": {},
     "outputs": [],
     "prompt_number": 6
    },
    {
     "cell_type": "markdown",
     "metadata": {},
     "source": [
      "Compare outputs:"
     ]
    },
    {
     "cell_type": "code",
     "collapsed": false,
     "input": [
      "import matplotlib.pyplot as plt\n",
      "\n",
      "from nest import raster_plot\n",
      "from reduced.simulation.plot.dynamics import layer_co_dynamics\n",
      "\n",
      "#events_i = np.array([vm.V_m for vm in input_monitors])\n",
      "#events_m = np.array([vm.V_m for vm in map_monitors])\n",
      "\n",
      "#fig1 = layer_co_dynamics(events_i, events_m, input_monitors[0].times)\n",
      "\n",
      "fig2 = raster_plot.from_device([spike_detector.id], hist=True)"
     ],
     "language": "python",
     "metadata": {},
     "outputs": [
      {
       "metadata": {},
       "output_type": "display_data",
       "png": "[encoded data removed]",
       "text": [
        "<matplotlib.figure.Figure at 0x7f19393370d0>"
       ]
      }
     ],
     "prompt_number": 7
    },
    {
     "cell_type": "code",
     "collapsed": false,
     "input": [
      "plt.show()"
     ],
     "language": "python",
     "metadata": {},
     "outputs": [],
     "prompt_number": 8
    }
   ],
   "metadata": {}
  }
 ]
}