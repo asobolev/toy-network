{
 "metadata": {
  "name": ""
 },
 "nbformat": 3,
 "nbformat_minor": 0,
 "worksheets": [
  {
   "cells": [
    {
     "cell_type": "markdown",
     "metadata": {},
     "source": [
      "Here is a simple 2-layered 3x3 network that learns to discriminate 3 orthogonal stimuli inputs. In this example output (map) layer does not have any interconnectivity, and the learning happens mainly because of the random initial weights (input layer -> map layer) and plastic synapses with post-synaptic firing rate dependent weight normalization."
     ]
    },
    {
     "cell_type": "code",
     "collapsed": false,
     "input": [
      "profile_path = \"profiles/01_3x3_orthogonal.json\"\n",
      "\n",
      "profile_dict = {\n",
      "    \"INPUT_LAYER\": {\n",
      "        \"x_dim\": 3,\n",
      "        \"y_dim\": 3\n",
      "    },\n",
      "    \"MAP_LAYER\": {\n",
      "        \"x_dim\": 3,\n",
      "        \"y_dim\": 3\n",
      "    },\n",
      "    \"STIMULI\": {\n",
      "        \"weight\": 2000.0,\n",
      "        \"stimuli_duration\": 15.0,\n",
      "        \"i_s_i\": 85.0,\n",
      "        \"movie_path\": \"../../data/5x5gklearn0.idlmov\"\n",
      "    },\n",
      "    \"INPUT_NEURON\": {\n",
      "        \"model\": \"pixel_iaf_psc_exp\",\n",
      "        \"para_dict\": {},\n",
      "        \"lat_ex_input_ports\": [],\n",
      "        \"noise_firing_rate\": 12000.0,\n",
      "        \"noise_amplitude\": 13.9\n",
      "    },\n",
      "    \"MAP_NEURON\": {\n",
      "        \"model\": \"iaf_psc_alpha\",\n",
      "        \"para_dict\": {\n",
      "            \"E_L\": -65.0,\n",
      "            \"C_m\": 1.0,\n",
      "            \"tau_m\": 20.9,\n",
      "            \"t_ref\": 2.0,\n",
      "            \"V_th\": -50.0,\n",
      "            \"V_reset\": -55.0\n",
      "        }\n",
      "    },\n",
      "    \"FWD_CONN\": {\n",
      "        \"model\": \"stdp_pl_norm_synapse_hom\",\n",
      "        \"weight_coeff\": 200.0\n",
      "    },\n",
      "    \"INH_CONN\": {\n",
      "        \"model\": \"static_synapse\",\n",
      "        \"weight_coeff\": -1.0,\n",
      "        \"quantity\": 2\n",
      "    },\n",
      "    \"SYNAPSE\": {\n",
      "        \"alpha\": 0.1,\n",
      "        \"lambda_\": 0.01,\n",
      "        \"weight\": 0.05,\n",
      "        \"norm_freq\": 600.0,\n",
      "        \"norm_fac1\": 0.8,\n",
      "        \"norm_fac0\": 0.2\n",
      "    }\n",
      "}\n",
      "\n",
      "import simplejson as json\n",
      "\n",
      "with open(profile_path, 'w') as pfile:\n",
      "  json.dump(data, outfile)"
     ],
     "language": "python",
     "metadata": {},
     "outputs": []
    },
    {
     "cell_type": "code",
     "collapsed": false,
     "input": [
      "from reduced.simulation.utils import from_file\n",
      "\n",
      "config_path = \"config/01_3x3_orthogonal.json\"\n",
      "setup = from_file(config_path)"
     ],
     "language": "python",
     "metadata": {},
     "outputs": [],
     "prompt_number": 2
    },
    {
     "cell_type": "code",
     "collapsed": false,
     "input": [
      "setup.keys()  # configuration sections"
     ],
     "language": "python",
     "metadata": {},
     "outputs": [
      {
       "metadata": {},
       "output_type": "pyout",
       "prompt_number": 3,
       "text": [
        "['FWD_CONN',\n",
        " 'SYNAPSE',\n",
        " 'INH_CONN',\n",
        " 'MAP_LAYER',\n",
        " 'MAP_NEURON',\n",
        " 'STIMULI',\n",
        " 'INPUT_NEURON',\n",
        " 'INPUT_LAYER']"
       ]
      }
     ],
     "prompt_number": 3
    },
    {
     "cell_type": "markdown",
     "metadata": {},
     "source": [
      "Layer dimensions:"
     ]
    },
    {
     "cell_type": "code",
     "collapsed": false,
     "input": [
      "setup['INPUT_LAYER'], setup['MAP_LAYER']"
     ],
     "language": "python",
     "metadata": {},
     "outputs": [
      {
       "metadata": {},
       "output_type": "pyout",
       "prompt_number": 4,
       "text": [
        "({'x_dim': 3, 'y_dim': 3}, {'x_dim': 3, 'y_dim': 3})"
       ]
      }
     ],
     "prompt_number": 4
    },
    {
     "cell_type": "markdown",
     "metadata": {},
     "source": [
      "Stimuli parameters:"
     ]
    },
    {
     "cell_type": "code",
     "collapsed": false,
     "input": [
      "setup['STIMULI']"
     ],
     "language": "python",
     "metadata": {},
     "outputs": [
      {
       "metadata": {},
       "output_type": "pyout",
       "prompt_number": 5,
       "text": [
        "{'i_s_i': 85.0,\n",
        " 'movie_path': '../../data/5x5gklearn0.idlmov',\n",
        " 'stimuli_duration': 15.0,\n",
        " 'weight': 2000.0}"
       ]
      }
     ],
     "prompt_number": 5
    },
    {
     "cell_type": "markdown",
     "metadata": {},
     "source": [
      "Neuron configuration for the input layer:"
     ]
    },
    {
     "cell_type": "code",
     "collapsed": false,
     "input": [
      "setup['INPUT_NEURON']"
     ],
     "language": "python",
     "metadata": {},
     "outputs": [
      {
       "metadata": {},
       "output_type": "pyout",
       "prompt_number": 6,
       "text": [
        "{'lat_ex_input_ports': [],\n",
        " 'model': 'pixel_iaf_psc_exp',\n",
        " 'noise_amplitude': 13.9,\n",
        " 'noise_firing_rate': 12000.0,\n",
        " 'para_dict': {}}"
       ]
      }
     ],
     "prompt_number": 6
    },
    {
     "cell_type": "markdown",
     "metadata": {},
     "source": [
      "Neuron configuration in the output layer:"
     ]
    },
    {
     "cell_type": "code",
     "collapsed": false,
     "input": [
      "setup['MAP_NEURON']"
     ],
     "language": "python",
     "metadata": {},
     "outputs": [
      {
       "metadata": {},
       "output_type": "pyout",
       "prompt_number": 8,
       "text": [
        "{'model': 'iaf_psc_alpha',\n",
        " 'para_dict': {'C_m': 1.0,\n",
        "  'E_L': -65.0,\n",
        "  'V_reset': -55.0,\n",
        "  'V_th': -50.0,\n",
        "  't_ref': 2.0,\n",
        "  'tau_m': 20.9}}"
       ]
      }
     ],
     "prompt_number": 8
    },
    {
     "cell_type": "markdown",
     "metadata": {},
     "source": [
      "Connections configuration:"
     ]
    },
    {
     "cell_type": "code",
     "collapsed": false,
     "input": [
      "setup['SYNAPSE']"
     ],
     "language": "python",
     "metadata": {},
     "outputs": [
      {
       "metadata": {},
       "output_type": "pyout",
       "prompt_number": 10,
       "text": [
        "{'alpha': 0.1,\n",
        " 'lambda_': 0.01,\n",
        " 'norm_fac0': 0.2,\n",
        " 'norm_fac1': 0.8,\n",
        " 'norm_freq': 600.0,\n",
        " 'weight': 0.05}"
       ]
      }
     ],
     "prompt_number": 10
    },
    {
     "cell_type": "markdown",
     "metadata": {},
     "source": [
      "The 'simulate.py' script runs the simulation.\n",
      "\n",
      "The following arguments are accepted:\n",
      "* -t:    simulation time\n",
      "* -p:    interval to save actual weights\n",
      "* -c:    path to configuration file with network settings\n",
      "* -o:    path to the output file to save simulation results\n",
      "\n",
      "Run simulation with the above configuration:"
     ]
    },
    {
     "cell_type": "code",
     "collapsed": false,
     "input": [
      "import os\n",
      "\n",
      "save_to = \"sim.h5\"\n",
      "os.system(\"./simulate.py -t 30000 -p 1000 -c %s -o %s\" % (config_path, save_to))"
     ],
     "language": "python",
     "metadata": {},
     "outputs": [
      {
       "metadata": {},
       "output_type": "pyout",
       "prompt_number": 13,
       "text": [
        "0"
       ]
      }
     ],
     "prompt_number": 13
    },
    {
     "cell_type": "code",
     "collapsed": false,
     "input": [
      "os.system(\"./analyse.py --file %s -w\" % save_to)"
     ],
     "language": "python",
     "metadata": {},
     "outputs": [
      {
       "metadata": {},
       "output_type": "pyout",
       "prompt_number": 14,
       "text": [
        "0"
       ]
      }
     ],
     "prompt_number": 14
    }
   ],
   "metadata": {}
  }
 ]
}