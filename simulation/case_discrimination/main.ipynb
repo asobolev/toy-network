{
 "metadata": {
  "name": ""
 },
 "nbformat": 3,
 "nbformat_minor": 0,
 "worksheets": [
  {
   "cells": [
    {
     "cell_type": "markdown",
     "metadata": {},
     "source": [
      "The following article builds a toy-network with two layers of neurons, aimed at learning a simple discrimination of the input stimuli. The network has 5x5 square input layer (25 input neurons), plastic (all-to-all) synaptic connections to a 5x5 map layer (25 neurons). The map layer neurons exhibit some random inhibition and local (neihboring) excitation within the layer to include some competition between the neurons."
     ]
    },
    {
     "cell_type": "markdown",
     "metadata": {},
     "source": [
      "All configurations for neurons, connections and synapses are located in the configurations.json (JSON) file in the case folder."
     ]
    },
    {
     "cell_type": "heading",
     "level": 3,
     "metadata": {},
     "source": [
      "Network Setup"
     ]
    },
    {
     "cell_type": "markdown",
     "metadata": {},
     "source": [
      "Using the related configuration, assemble the toy-network:"
     ]
    },
    {
     "cell_type": "code",
     "collapsed": true,
     "input": [
      "#!/usr/bin/env python\n",
      "\n",
      "import nest\n",
      "import numpy as np\n",
      "\n",
      "from reduced.network.network import ToyNetwork\n",
      "from reduced.simulation.utils import from_file, parse_to_objects\n",
      "\n",
      "nest.ResetKernel()\n",
      "\n",
      "setup_dict = parse_to_objects(from_file('configurations.json'))\n",
      "\n",
      "network_setup = [\n",
      "    setup_dict['GKLEARN_5X5_0'], setup_dict['INPUT_NEURON'],\n",
      "    setup_dict['MAP_NEURON'], setup_dict['HOM_SYNAPSE'],\n",
      "    setup_dict['FWD_CONN'], setup_dict['INH_CONN'], setup_dict['EXC_CONN']\n",
      "]\n",
      "network = ToyNetwork(*network_setup)"
     ],
     "language": "python",
     "metadata": {},
     "outputs": [],
     "prompt_number": 19
    },
    {
     "cell_type": "heading",
     "level": 3,
     "metadata": {},
     "source": [
      "Learning"
     ]
    },
    {
     "cell_type": "markdown",
     "metadata": {},
     "source": [
      "Simulation parameters:"
     ]
    },
    {
     "cell_type": "code",
     "collapsed": false,
     "input": [
      "phase = setup_dict['GKLEARN_5X5_0'].i_s_i + setup_dict['GKLEARN_5X5_0'].stimuli_duration\n",
      "cycle = 4 * phase  # this input has 4 different stimuli\n",
      "\n",
      "max_simulation_time = 5000\n",
      "convergence_delta = 5  # criteria for convergence\n",
      "\n",
      "time_passed = 0\n",
      "\n",
      "# collector for actual synaptic (weights) evolution\n",
      "# every element is a list of synapses with actual synaptic values\n",
      "spider = []\n",
      "\n",
      "get_as_dict = lambda synapses: [x.as_dict() for x in synapses]\n",
      "get_weights = lambda synapses: [x['weight'] for x in synapses]\n",
      "\n",
      "spider.append(get_as_dict(network.input_layer.synapses))\n",
      "\n",
      "weights_diff = np.array(get_weights(spider[0]))\n",
      "previous_weights = np.array(get_weights(spider[0]))"
     ],
     "language": "python",
     "metadata": {},
     "outputs": [],
     "prompt_number": 20
    },
    {
     "cell_type": "markdown",
     "metadata": {},
     "source": [
      "Simulate with cycles equal to one stimulus presentation to record weight evolution. Simulate until the weights are converged:"
     ]
    },
    {
     "cell_type": "code",
     "collapsed": false,
     "input": [
      "# and not (weights_diff < convergence_delta).all()\n",
      "\n",
      "while (time_passed < max_simulation_time):\n",
      "    nest.Simulate(phase)\n",
      "    time_passed += phase\n",
      "    \n",
      "    spider.append(get_as_dict(network.input_layer.synapses))\n",
      "    weights_diff = np.abs(np.array(get_weights(spider[-1])) - get_weights(spider[-2]))\n",
      "    \n",
      "print time_passed"
     ],
     "language": "python",
     "metadata": {},
     "outputs": [
      {
       "output_type": "stream",
       "stream": "stdout",
       "text": [
        "5000.0\n"
       ]
      }
     ],
     "prompt_number": 21
    },
    {
     "cell_type": "code",
     "collapsed": false,
     "input": [
      "from reduced.simulation.plot.weights import weights_multiple\n",
      "\n",
      "def extract_weights_as_2D(synapses):\n",
      "    sources = [x['source'] for x in synapses]\n",
      "    sources = sorted(set(sources), key=sources.index) \n",
      "\n",
      "    source_filter = lambda x: x['source'] == source\n",
      "    \n",
      "    return [get_weights(filter(source_filter, synapses)) for source in sources]\n",
      "\n",
      "weights_before = extract_weights_as_2D(spider[0])\n",
      "weights_after = extract_weights_as_2D(spider[-1])\n",
      "\n",
      "fig = weights_multiple([weights_before, weights_after])"
     ],
     "language": "python",
     "metadata": {},
     "outputs": [
      {
       "output_type": "stream",
       "stream": "stderr",
       "text": [
        "ERROR: No traceback has been produced, nothing to debug.\n"
       ]
      },
      {
       "metadata": {},
       "output_type": "display_data",
       "png": "[encoded data removed]",
       "text": [
        "<matplotlib.figure.Figure at 0x7f54167c0f10>"
       ]
      }
     ],
     "prompt_number": 22
    },
    {
     "cell_type": "heading",
     "level": 3,
     "metadata": {},
     "source": [
      "Single cell analysis"
     ]
    },
    {
     "cell_type": "code",
     "collapsed": false,
     "input": [
      "cell = network.map_layer[2]\n",
      "\n",
      "print cell.id\n",
      "\n",
      "[(x['source'], x['weight']) for x in network.input_layer.synapses_for(cell)]"
     ],
     "language": "python",
     "metadata": {},
     "outputs": [
      {
       "output_type": "stream",
       "stream": "stdout",
       "text": [
        "31\n"
       ]
      },
      {
       "metadata": {},
       "output_type": "pyout",
       "prompt_number": 23,
       "text": [
        "[(2, 451.1759361441035),\n",
        " (3, 451.3250947957808),\n",
        " (4, 450.9748993025017),\n",
        " (5, 451.5264693309491),\n",
        " (6, 451.11862412244716),\n",
        " (7, 24.05411561487222),\n",
        " (8, 10.692236957774517),\n",
        " (9, 69.00789560315442),\n",
        " (10, 93.14127744440619),\n",
        " (11, 63.77350878999649),\n",
        " (12, 18.521103992568367),\n",
        " (13, 77.60512234231086),\n",
        " (14, 54.05378760764606),\n",
        " (15, 3.937788414418911),\n",
        " (16, 92.37276397001965),\n",
        " (17, 42.0312712528009),\n",
        " (18, 108.78844708537801),\n",
        " (19, 89.14443316088763),\n",
        " (20, 86.40468769977089),\n",
        " (21, 59.83572479002974),\n",
        " (22, 20.841094534925187),\n",
        " (23, 54.43472720156427),\n",
        " (24, 90.88753154765509),\n",
        " (25, 70.32214351410406),\n",
        " (26, 54.891483791678155)]"
       ]
      }
     ],
     "prompt_number": 23
    },
    {
     "cell_type": "heading",
     "level": 3,
     "metadata": {},
     "source": [
      "Testing"
     ]
    },
    {
     "cell_type": "markdown",
     "metadata": {},
     "source": [
      "Set voltage monitors before the simulation:"
     ]
    },
    {
     "cell_type": "code",
     "collapsed": false,
     "input": [
      "from reduced.network.monitors import VoltageMonitor, MonitorPool, SpikeDetector\n",
      "\n",
      "#input_monitors = MonitorPool(VoltageMonitor, network.input_layer.nodes)\n",
      "#map_monitors = MonitorPool(VoltageMonitor, network.map_layer.nodes)\n",
      "\n",
      "#spike_detector = SpikeDetector(network.map_layer.nodes)"
     ],
     "language": "python",
     "metadata": {},
     "outputs": [],
     "prompt_number": 24
    },
    {
     "cell_type": "markdown",
     "metadata": {},
     "source": [
      "Simulate sample interval:"
     ]
    },
    {
     "cell_type": "code",
     "collapsed": false,
     "input": [
      "#nest.Simulate(10000)"
     ],
     "language": "python",
     "metadata": {},
     "outputs": [],
     "prompt_number": 25
    },
    {
     "cell_type": "markdown",
     "metadata": {},
     "source": [
      "Compare outputs:"
     ]
    },
    {
     "cell_type": "code",
     "collapsed": false,
     "input": [
      "import matplotlib.pyplot as plt\n",
      "\n",
      "from nest import raster_plot\n",
      "from reduced.simulation.plot.dynamics import layer_co_dynamics\n",
      "\n",
      "#events_i = np.array([vm.V_m for vm in input_monitors])\n",
      "#events_m = np.array([vm.V_m for vm in map_monitors])\n",
      "\n",
      "#fig1 = layer_co_dynamics(events_i, events_m, input_monitors[0].times)\n",
      "\n",
      "#fig2 = raster_plot.from_device([spike_detector.id], hist=True)"
     ],
     "language": "python",
     "metadata": {},
     "outputs": [],
     "prompt_number": 26
    },
    {
     "cell_type": "code",
     "collapsed": false,
     "input": [
      "#plt.show()"
     ],
     "language": "python",
     "metadata": {},
     "outputs": [],
     "prompt_number": 27
    }
   ],
   "metadata": {}
  }
 ]
}